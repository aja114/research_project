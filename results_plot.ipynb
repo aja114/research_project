{
 "cells": [
  {
   "cell_type": "code",
   "execution_count": 63,
   "metadata": {},
   "outputs": [],
   "source": [
    "import pandas as pd\n",
    "import numpy as np"
   ]
  },
  {
   "cell_type": "code",
   "execution_count": 64,
   "metadata": {},
   "outputs": [],
   "source": [
    "data = {}"
   ]
  },
  {
   "cell_type": "code",
   "execution_count": 65,
   "metadata": {},
   "outputs": [],
   "source": [
    "exp = 'exp2021_07_14_1552'"
   ]
  },
  {
   "cell_type": "code",
   "execution_count": 66,
   "metadata": {},
   "outputs": [],
   "source": [
    "algos = ['reinforce', 'reinforce with state count', 'reinforce with sequence count', 'reinforce with state and sequence count']"
   ]
  },
  {
   "cell_type": "code",
   "execution_count": 67,
   "metadata": {},
   "outputs": [
    {
     "name": "stdout",
     "output_type": "stream",
     "text": [
      "res_r:  19250.0\n",
      "res_r_st:  18450.0\n",
      "res_r_seq:  71150.0\n",
      "res_r_st_seq:  52850.0\n"
     ]
    }
   ],
   "source": [
    "data[algos[0]] = pd.read_csv(f'data/{exp}/reinforce_res.csv', header=[0, 1], skipinitialspace=True)\n",
    "data[algos[1]] = pd.read_csv(f'data/{exp}/reinforce_res_st.csv', header=[0, 1], skipinitialspace=True)\n",
    "data[algos[2]] = pd.read_csv(f'data/{exp}/reinforce_res_seq.csv', header=[0, 1], skipinitialspace=True)\n",
    "data[algos[3]] = pd.read_csv(f'data/{exp}/reinforce_res_st_seq.csv', header=[0, 1], skipinitialspace=True)\n",
    "\n",
    "print(\"res_r: \", np.sum(np.sum(data[algos[0]])))\n",
    "print(\"res_r_st: \", np.sum(np.sum(data[algos[1]])))\n",
    "print(\"res_r_seq: \", np.sum(np.sum(data[algos[2]])))\n",
    "print(\"res_r_st_seq: \", np.sum(np.sum(data[algos[3]])))"
   ]
  },
  {
   "cell_type": "code",
   "execution_count": 68,
   "metadata": {},
   "outputs": [],
   "source": [
    "labels = set(data[algos[0]].columns.get_level_values(0))\n",
    "num_runs = len(data[algos[0]].columns)"
   ]
  },
  {
   "cell_type": "code",
   "execution_count": 69,
   "metadata": {},
   "outputs": [],
   "source": [
    "results = {}\n",
    "for L in labels:\n",
    "    for alg in algos:\n",
    "        # results[(L, alg)] = (data[str(alg)][str(L)] > 0).sum()\n",
    "        results[(L, alg)] = data[str(alg)][str(L)].sum()"
   ]
  },
  {
   "cell_type": "code",
   "execution_count": 70,
   "metadata": {},
   "outputs": [
    {
     "data": {
      "text/html": [
       "<div>\n",
       "<style scoped>\n",
       "    .dataframe tbody tr th:only-of-type {\n",
       "        vertical-align: middle;\n",
       "    }\n",
       "\n",
       "    .dataframe tbody tr th {\n",
       "        vertical-align: top;\n",
       "    }\n",
       "\n",
       "    .dataframe thead tr th {\n",
       "        text-align: left;\n",
       "    }\n",
       "</style>\n",
       "<table border=\"1\" class=\"dataframe\">\n",
       "  <thead>\n",
       "    <tr>\n",
       "      <th></th>\n",
       "      <th colspan=\"4\" halign=\"left\">10</th>\n",
       "    </tr>\n",
       "    <tr>\n",
       "      <th></th>\n",
       "      <th>reinforce</th>\n",
       "      <th>reinforce with state count</th>\n",
       "      <th>reinforce with sequence count</th>\n",
       "      <th>reinforce with state and sequence count</th>\n",
       "    </tr>\n",
       "  </thead>\n",
       "  <tbody>\n",
       "    <tr>\n",
       "      <th>0</th>\n",
       "      <td>1050.0</td>\n",
       "      <td>750.0</td>\n",
       "      <td>12650.0</td>\n",
       "      <td>4000.0</td>\n",
       "    </tr>\n",
       "    <tr>\n",
       "      <th>1</th>\n",
       "      <td>600.0</td>\n",
       "      <td>4100.0</td>\n",
       "      <td>8950.0</td>\n",
       "      <td>7300.0</td>\n",
       "    </tr>\n",
       "    <tr>\n",
       "      <th>2</th>\n",
       "      <td>5600.0</td>\n",
       "      <td>3250.0</td>\n",
       "      <td>9350.0</td>\n",
       "      <td>10600.0</td>\n",
       "    </tr>\n",
       "    <tr>\n",
       "      <th>3</th>\n",
       "      <td>2350.0</td>\n",
       "      <td>300.0</td>\n",
       "      <td>8500.0</td>\n",
       "      <td>6150.0</td>\n",
       "    </tr>\n",
       "    <tr>\n",
       "      <th>4</th>\n",
       "      <td>7500.0</td>\n",
       "      <td>4250.0</td>\n",
       "      <td>12300.0</td>\n",
       "      <td>10600.0</td>\n",
       "    </tr>\n",
       "    <tr>\n",
       "      <th>5</th>\n",
       "      <td>300.0</td>\n",
       "      <td>400.0</td>\n",
       "      <td>10750.0</td>\n",
       "      <td>4050.0</td>\n",
       "    </tr>\n",
       "    <tr>\n",
       "      <th>6</th>\n",
       "      <td>1850.0</td>\n",
       "      <td>5400.0</td>\n",
       "      <td>8650.0</td>\n",
       "      <td>10150.0</td>\n",
       "    </tr>\n",
       "  </tbody>\n",
       "</table>\n",
       "</div>"
      ],
      "text/plain": [
       "         10                                                           \\\n",
       "  reinforce reinforce with state count reinforce with sequence count   \n",
       "0    1050.0                      750.0                       12650.0   \n",
       "1     600.0                     4100.0                        8950.0   \n",
       "2    5600.0                     3250.0                        9350.0   \n",
       "3    2350.0                      300.0                        8500.0   \n",
       "4    7500.0                     4250.0                       12300.0   \n",
       "5     300.0                      400.0                       10750.0   \n",
       "6    1850.0                     5400.0                        8650.0   \n",
       "\n",
       "                                           \n",
       "  reinforce with state and sequence count  \n",
       "0                                  4000.0  \n",
       "1                                  7300.0  \n",
       "2                                 10600.0  \n",
       "3                                  6150.0  \n",
       "4                                 10600.0  \n",
       "5                                  4050.0  \n",
       "6                                 10150.0  "
      ]
     },
     "execution_count": 70,
     "metadata": {},
     "output_type": "execute_result"
    }
   ],
   "source": [
    "results = pd.DataFrame.from_dict(results, orient='columns')\n",
    "results"
   ]
  },
  {
   "cell_type": "code",
   "execution_count": 71,
   "metadata": {},
   "outputs": [
    {
     "data": {
      "image/png": "[encoded data removed]",
      "text/plain": [
       "<Figure size 864x360 with 1 Axes>"
      ]
     },
     "metadata": {
      "needs_background": "light"
     },
     "output_type": "display_data"
    }
   ],
   "source": [
    "import matplotlib.pyplot as plt\n",
    "\n",
    "labels = [f'Grid Length of {L}' for L in labels]\n",
    "\n",
    "x = np.arange(len(labels))  \n",
    "width = 0.2 \n",
    "\n",
    "fig, ax = plt.subplots(figsize=(12, 5))\n",
    "\n",
    "data0 = results.xs(algos[0], axis=1, level=1, drop_level=False).values\n",
    "data1 = results.xs(algos[1], axis=1, level=1, drop_level=False).values\n",
    "data2 = results.xs(algos[2], axis=1, level=1, drop_level=False).values\n",
    "data3 = results.xs(algos[3], axis=1, level=1, drop_level=False).values\n",
    "\n",
    "mean0 = np.mean(data0)\n",
    "mean1 = np.mean(data1)\n",
    "mean2 = np.mean(data2)\n",
    "mean3 = np.mean(data3)\n",
    "\n",
    "error0 = np.std(data0)\n",
    "error1 = np.std(data1)\n",
    "error2 = np.std(data2)\n",
    "error3 = np.std(data3)\n",
    "\n",
    "rects0 = ax.bar(x - 1.5*width, mean0, width*0.8, yerr=error0, ecolor='black', label=algos[0])\n",
    "rects1 = ax.bar(x - 0.5*width, mean1, width*0.8, yerr=error1, ecolor='black', label=algos[1])\n",
    "rects2 = ax.bar(x + 0.5*width, mean2, width*0.8, yerr=error2, ecolor='black', label=algos[2])\n",
    "rects2 = ax.bar(x + 1.5*width, mean3, width*0.8, yerr=error3, ecolor='black', label=algos[3])\n",
    "\n",
    "# Add some text for labels, title and custom x-axis tick labels, etc.\n",
    "ax.set_ylabel('total rewards')\n",
    "ax.set_title(f'average of total rewards over {num_runs} runs')\n",
    "ax.set_xticks(x)\n",
    "ax.set_xticklabels(labels)\n",
    "\n",
    "ax.legend()\n",
    "\n",
    "ax.bar_label(rects1, padding=3)\n",
    "ax.bar_label(rects2, padding=3)\n",
    "\n",
    "fig.tight_layout()\n",
    "\n",
    "plt.show()"
   ]
  },
  {
   "cell_type": "code",
   "execution_count": null,
   "metadata": {},
   "outputs": [],
   "source": []
  },
  {
   "cell_type": "code",
   "execution_count": null,
   "metadata": {},
   "outputs": [],
   "source": []
  }
 ],
 "metadata": {
  "kernelspec": {
   "display_name": "Python 3",
   "language": "python",
   "name": "python3"
  },
  "language_info": {
   "codemirror_mode": {
    "name": "ipython",
    "version": 3
   },
   "file_extension": ".py",
   "mimetype": "text/x-python",
   "name": "python",
   "nbconvert_exporter": "python",
   "pygments_lexer": "ipython3",
   "version": "3.7.6"
  }
 },
 "nbformat": 4,
 "nbformat_minor": 4
}
